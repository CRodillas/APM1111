{
 "cells": [
  {
   "cell_type": "code",
   "execution_count": 1,
   "id": "055931b4-b2fd-4f45-b0f2-94d90c9db9a8",
   "metadata": {},
   "outputs": [
    {
     "data": {
      "text/html": [
       "<div>\n",
       "<style scoped>\n",
       "    .dataframe tbody tr th:only-of-type {\n",
       "        vertical-align: middle;\n",
       "    }\n",
       "\n",
       "    .dataframe tbody tr th {\n",
       "        vertical-align: top;\n",
       "    }\n",
       "\n",
       "    .dataframe thead th {\n",
       "        text-align: right;\n",
       "    }\n",
       "</style>\n",
       "<table border=\"1\" class=\"dataframe\">\n",
       "  <thead>\n",
       "    <tr style=\"text-align: right;\">\n",
       "      <th></th>\n",
       "      <th>AD_Status</th>\n",
       "      <th>Treatment</th>\n",
       "      <th>Training</th>\n",
       "      <th>Memory</th>\n",
       "    </tr>\n",
       "  </thead>\n",
       "  <tbody>\n",
       "    <tr>\n",
       "      <th>0</th>\n",
       "      <td>1</td>\n",
       "      <td>1</td>\n",
       "      <td>12</td>\n",
       "      <td>10</td>\n",
       "    </tr>\n",
       "    <tr>\n",
       "      <th>1</th>\n",
       "      <td>1</td>\n",
       "      <td>1</td>\n",
       "      <td>15</td>\n",
       "      <td>12</td>\n",
       "    </tr>\n",
       "    <tr>\n",
       "      <th>2</th>\n",
       "      <td>1</td>\n",
       "      <td>1</td>\n",
       "      <td>13</td>\n",
       "      <td>13</td>\n",
       "    </tr>\n",
       "    <tr>\n",
       "      <th>3</th>\n",
       "      <td>1</td>\n",
       "      <td>1</td>\n",
       "      <td>12</td>\n",
       "      <td>10</td>\n",
       "    </tr>\n",
       "    <tr>\n",
       "      <th>4</th>\n",
       "      <td>1</td>\n",
       "      <td>1</td>\n",
       "      <td>14</td>\n",
       "      <td>13</td>\n",
       "    </tr>\n",
       "  </tbody>\n",
       "</table>\n",
       "</div>"
      ],
      "text/plain": [
       "   AD_Status  Treatment  Training  Memory\n",
       "0          1          1        12      10\n",
       "1          1          1        15      12\n",
       "2          1          1        13      13\n",
       "3          1          1        12      10\n",
       "4          1          1        14      13"
      ]
     },
     "execution_count": 1,
     "metadata": {},
     "output_type": "execute_result"
    }
   ],
   "source": [
    "import pandas as pd\n",
    "from scipy.stats import shapiro\n",
    "import statsmodels.api as sm \n",
    "from statsmodels.formula.api import ols \n",
    "from statsmodels.stats.multicomp import pairwise_tukeyhsd\n",
    "\n",
    "\n",
    "\n",
    "\n",
    "alz_df=pd.read_csv('E:/Downloads/Alzheimers Mice Data.csv')\n",
    "\n",
    "alz_df.head()"
   ]
  },
  {
   "cell_type": "markdown",
   "id": "f8ba6cd0",
   "metadata": {},
   "source": [
    "<h2>2B ANOVA - Memory Day</h2>\n",
    "\n",
    "<h3>Assumptions:</h3>\n",
    "1.You have one dependent variable that is measured at the continuous level (i.e., the interval or ratio level).\n",
    "\n",
    "2. You have two independent variables where each independent variable consists of two or more categorical, independent groups. An independent variable with only two groups is known as a dichotomous variable whereas an independent variable with three or more groups is referred to as a polytomous variable.\n",
    "\n",
    "3. You should have independence of observations, which means that there is no relationship between the observations in each group of the independent variable or between the groups themselves.\n",
    "\n",
    "4. There should be no significant outliers in any cell of the design.\n",
    "\n",
    "5. The distribution of the dependent variable (residuals) should be approximately normally distributed in every cell of the design. \n",
    "\n",
    "6. The variance of the dependent variable (residuals) should be equal in every cell of the design.\n",
    "\n",
    "<h3>Null and Alternative Hypotheses</h3>\n",
    "<h4>Null hypothesis:</h4> There is no significant interaction effect on memory day between drug treatment and AD status.\n",
    "<h4>Alternative Hypothesis:</h4> There is a significant interaction effect on memory day between drug treatment and AD status.\n",
    "\n",
    "<h3>Dataset and Problem</h3>\n",
    "This analysis utilizes Python to explore and investigate the connection of drug treatment and AD status to their respective interaction on memory day. We aim to determine if there are underlying statistical differences in political interest with each independent group (drug treatment, AD status) and if there is any interaction effect between the two groups. \n",
    "\n",
    "\n",
    "\n",
    "\n",
    "\n",
    "<h2>Assumptions:</h2>\n",
    "<b>Assumption #1:</b> You have one dependent variable that is measured at the continuous level. \n",
    "\n",
    "<b>Remark.</b> The given dataset has one dependent variable memory day. The stated variable is dependent on the two given variables, drug treatment, AD status, and is at continuous level. This satisfies the assumption #1. \n",
    "\n",
    "<b>Assumption #2:</b> You have two independent variables where each independent variable consists of two or more categorical, independent groups.  \n",
    "\n",
    "<b>Remark.</b> The dataset consists of two independent variables, the drug treatment and AD status. The AD status consists of 2 independent groups, 1, and 2, making it a dichotomous variable. On the other hand, the independent variable drug treatment has four independent groups 1,2,3, and 4. These two independent variables are the basis of the dependent variable memory day.  This satisfies the assumption #2. \n",
    "\n",
    "\n",
    "<b>Assumption #3:</b> You should have independence of observations, which means that there is no relationship between the observations in each group of the independent variable or between the groups themselves.\n",
    "\n",
    "<b>Remark.</b> For the dataset given, each observation represents a unique individual value for the two independent variables. There is no indication that each independent group correlates with each other. The two independent groups for gender provide specific values, and are recorded independently with each other. It is the same with the case of drug treatment 1, 2, 3, and 4. This satisfies the assumption of independence for 2-way ANOVA.  \n"
   ]
  },
  {
   "cell_type": "markdown",
   "id": "831cd7d1-179f-4781-b63e-e0788f5c2573",
   "metadata": {},
   "source": [
    "# Assumption 4\n",
    "<b>Assumption #4:</b> There should be no significant outliers in any cell of the design."
   ]
  },
  {
   "cell_type": "code",
   "execution_count": 16,
   "id": "6f4eb99e-43ad-4312-9610-320ab1f2134b",
   "metadata": {},
   "outputs": [
    {
     "data": {
      "image/png": "[encoded data removed]",
      "text/plain": [
       "<Figure size 1000x600 with 1 Axes>"
      ]
     },
     "metadata": {},
     "output_type": "display_data"
    }
   ],
   "source": [
    "\n",
    "plt.figure(figsize=(10, 6))\n",
    "\n",
    "sns.boxplot(x='AD_Status', y='Memory', hue='Treatment', data=df, palette=\"Set2\", dodge=True)\n",
    "\n",
    "plt.title(\"Memory error based on AD Status and Treatment\", fontsize=14)\n",
    "plt.xlabel(\"AD_Status\", fontsize=12)\n",
    "plt.ylabel(\"Training\", fontsize=12)\n",
    "plt.legend(title=\"Treatment;\", bbox_to_anchor=(1.05, 1), loc='upper left')\n",
    "plt.tight_layout()\n",
    "plt.show()"
   ]
  },
  {
   "cell_type": "markdown",
   "id": "8eb26334",
   "metadata": {},
   "source": [
    "<b>Remark.</b>  There is a significant outlier with the 1 AD status, but since it is not an extreme outlier, all fall within the range and are valid."
   ]
  },
  {
   "cell_type": "markdown",
   "id": "f67f7b03-b51c-4406-95b6-ded7cb1b4921",
   "metadata": {},
   "source": [
    "# Assumption 5\n",
    "<b>Assumption #5:</b> The distribution of the dependent variable (residuals) should be approximately normally distributed in every cell of the design. \n"
   ]
  },
  {
   "cell_type": "code",
   "execution_count": 4,
   "id": "274a28d6-3d61-49d4-a8b7-2464a17f63be",
   "metadata": {},
   "outputs": [
    {
     "data": {
      "text/plain": [
       "{(1, 1): {'Statistic': 0.8029904417735476, 'p-value': 0.08569260402621937},\n",
       " (1, 2): {'Statistic': 0.7709079337590306, 'p-value': 0.04595431783856295},\n",
       " (2, 1): {'Statistic': 0.9556271474166738, 'p-value': 0.7772534037372361},\n",
       " (2, 2): {'Statistic': 0.9529604619046342, 'p-value': 0.7583121101708065},\n",
       " (3, 1): {'Statistic': 0.9523514916285045, 'p-value': 0.7539729964660309},\n",
       " (3, 2): {'Statistic': 0.8810376385817489, 'p-value': 0.3140395561440371},\n",
       " (4, 1): {'Statistic': 0.9020198201298121, 'p-value': 0.4211496535161197},\n",
       " (4, 2): {'Statistic': 0.9523514916285045, 'p-value': 0.7539729964660309}}"
      ]
     },
     "metadata": {},
     "output_type": "display_data"
    }
   ],
   "source": [
    "normality ={}\n",
    "for i in df['Treatment'].unique():\n",
    "    for j in df['AD_Status'].unique():\n",
    "        group_normal=df[(df['Treatment'] == i) & (df['AD_Status'] == j)]['Memory']\n",
    "        stat, p_value = shapiro(group_normal)\n",
    "        normality[(int(i), int(j))] = {'Statistic': float(stat), 'p-value': float(p_value)}\n",
    "\n",
    "display(normality)"
   ]
  },
  {
   "cell_type": "markdown",
   "id": "e85009d6",
   "metadata": {},
   "source": [
    "<b>Remark.</b> The dependent variable, memory day, is approximately normally distributed for each combination of their AD status to the respective drug treatment except for 1,2. And as assessed by the Shapiro-Wilk test of normality, (p > 0.05), all fall within the prescribed basis of greater than 0.05, except for the only combination not normally distributed, this means it violates the assumption #5. "
   ]
  },
  {
   "cell_type": "markdown",
   "id": "3b867e51-36fc-4d3c-b04c-6d856b264aa3",
   "metadata": {},
   "source": [
    "# Assumption 6 (Levene's Test)\n",
    "<b>Assumption #6:  </b>The variance of the dependent variable (residuals) should be equal in every cell of the design."
   ]
  },
  {
   "cell_type": "code",
   "execution_count": 6,
   "id": "886fdf93-5aa0-4f7e-9970-e1aa2f4f9e5a",
   "metadata": {},
   "outputs": [
    {
     "name": "stdout",
     "output_type": "stream",
     "text": [
      "Statistic: 0.8274582560296847 p-value: 0.5722200263972536\n"
     ]
    }
   ],
   "source": [
    "\n",
    "group_levene = [df[(df['Treatment'] == i) & (df['AD_Status'] == j)]['Memory']\n",
    "          for i in df['Treatment'].unique() for j in df['AD_Status'].unique()]\n",
    "\n",
    "levene_stat, levene_p = levene(*group_levene)\n",
    "float(levene_stat), float(levene_p)\n",
    "print(f\"Statistic: {levene_stat} p-value: {levene_p}\")"
   ]
  },
  {
   "cell_type": "markdown",
   "id": "2e8b364a",
   "metadata": {},
   "source": [
    "<b>Remark.</b> As assessed by Levene’s test of equality of variances, p = 0.572, then the variances for each combination of the AD status and drug treatment are homogenous."
   ]
  },
  {
   "cell_type": "markdown",
   "id": "d757ab47",
   "metadata": {},
   "source": [
    "<h2>Reporting:</h2>\n",
    "The analysis for Memory Day was conducted; however, Assumption 5 (homogeneity of variances) was violated, as determined through Levene's Test for Homogeneity. Due to this violation, the results of the ANOVA are not considered valid, and the null hypothesis for the effects of AD Status, Treatment, and their interaction on memory performance cannot be reliably tested.\n",
    "No further analysis or interpretation was conducted for Memory Day, as the violation of the assumption invalidates the statistical model used.\n"
   ]
  }
 ],
 "metadata": {
  "kernelspec": {
   "display_name": "Python 3 (ipykernel)",
   "language": "python",
   "name": "python3"
  },
  "language_info": {
   "codemirror_mode": {
    "name": "ipython",
    "version": 3
   },
   "file_extension": ".py",
   "mimetype": "text/x-python",
   "name": "python",
   "nbconvert_exporter": "python",
   "pygments_lexer": "ipython3",
   "version": "3.9.19"
  }
 },
 "nbformat": 4,
 "nbformat_minor": 5
}
