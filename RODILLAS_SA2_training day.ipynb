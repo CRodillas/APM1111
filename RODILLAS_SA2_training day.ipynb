{
 "cells": [
  {
   "cell_type": "code",
   "execution_count": 38,
   "id": "055931b4-b2fd-4f45-b0f2-94d90c9db9a8",
   "metadata": {},
   "outputs": [
    {
     "data": {
      "text/html": [
       "<div>\n",
       "<style scoped>\n",
       "    .dataframe tbody tr th:only-of-type {\n",
       "        vertical-align: middle;\n",
       "    }\n",
       "\n",
       "    .dataframe tbody tr th {\n",
       "        vertical-align: top;\n",
       "    }\n",
       "\n",
       "    .dataframe thead th {\n",
       "        text-align: right;\n",
       "    }\n",
       "</style>\n",
       "<table border=\"1\" class=\"dataframe\">\n",
       "  <thead>\n",
       "    <tr style=\"text-align: right;\">\n",
       "      <th></th>\n",
       "      <th>AD_Status</th>\n",
       "      <th>Treatment</th>\n",
       "      <th>Training</th>\n",
       "      <th>Memory</th>\n",
       "    </tr>\n",
       "  </thead>\n",
       "  <tbody>\n",
       "    <tr>\n",
       "      <th>0</th>\n",
       "      <td>1</td>\n",
       "      <td>1</td>\n",
       "      <td>12</td>\n",
       "      <td>10</td>\n",
       "    </tr>\n",
       "    <tr>\n",
       "      <th>1</th>\n",
       "      <td>1</td>\n",
       "      <td>1</td>\n",
       "      <td>15</td>\n",
       "      <td>12</td>\n",
       "    </tr>\n",
       "    <tr>\n",
       "      <th>2</th>\n",
       "      <td>1</td>\n",
       "      <td>1</td>\n",
       "      <td>13</td>\n",
       "      <td>13</td>\n",
       "    </tr>\n",
       "    <tr>\n",
       "      <th>3</th>\n",
       "      <td>1</td>\n",
       "      <td>1</td>\n",
       "      <td>12</td>\n",
       "      <td>10</td>\n",
       "    </tr>\n",
       "    <tr>\n",
       "      <th>4</th>\n",
       "      <td>1</td>\n",
       "      <td>1</td>\n",
       "      <td>14</td>\n",
       "      <td>13</td>\n",
       "    </tr>\n",
       "  </tbody>\n",
       "</table>\n",
       "</div>"
      ],
      "text/plain": [
       "   AD_Status  Treatment  Training  Memory\n",
       "0          1          1        12      10\n",
       "1          1          1        15      12\n",
       "2          1          1        13      13\n",
       "3          1          1        12      10\n",
       "4          1          1        14      13"
      ]
     },
     "execution_count": 38,
     "metadata": {},
     "output_type": "execute_result"
    }
   ],
   "source": [
    "import pandas as pd\n",
    "from scipy.stats import shapiro\n",
    "import statsmodels.api as sm \n",
    "from statsmodels.formula.api import ols \n",
    "from statsmodels.stats.multicomp import pairwise_tukeyhsd\n",
    "\n",
    "alz_df=pd.read_csv('E:/Downloads/Alzheimers Mice Data.csv')\n",
    "\n",
    "alz_df.head()"
   ]
  },
  {
   "cell_type": "markdown",
   "id": "0c0d629a",
   "metadata": {},
   "source": [
    "<h2>2B ANOVA - Training Day</h2>\n",
    "\n",
    "<h3>Assumptions:</h3>\n",
    "1.You have one dependent variable that is measured at the continuous level (i.e., the interval or ratio level).\n",
    "\n",
    "2. You have two independent variables where each independent variable consists of two or more categorical, independent groups. An independent variable with only two groups is known as a dichotomous variable whereas an independent variable with three or more groups is referred to as a polytomous variable.\n",
    "\n",
    "3. You should have independence of observations, which means that there is no relationship between the observations in each group of the independent variable or between the groups themselves.\n",
    "\n",
    "4. There should be no significant outliers in any cell of the design.\n",
    "\n",
    "5. The distribution of the dependent variable (residuals) should be approximately normally distributed in every cell of the design. \n",
    "\n",
    "6. The variance of the dependent variable (residuals) should be equal in every cell of the design.\n",
    "\n",
    "<h3>Null and Alternative Hypotheses</h3>\n",
    "<h4>Null hypothesis:</h4> There is no significant interaction effect on training day between drug treatment and AD status.\n",
    "<h4>Alternative Hypothesis:</h4> There is a significant interaction effect on training day between drug treatment and AD status.\n",
    "\n",
    "<h3>Dataset and Problem</h3>\n",
    "This analysis utilizes Python to explore and investigate the connection of drug treatment and AD status to their respective interaction on training day. We aim to determine if there are underlying statistical differences in political interest with each independent group (drug treatment, AD status) and if there is any interaction effect between the two groups. \n",
    "\n",
    "\n",
    "\n",
    "\n",
    "\n",
    "<h2>Assumptions:</h2>\n",
    "<b>Assumption #1:</b> You have one dependent variable that is measured at the continuous level. \n",
    "\n",
    "<b>Remark.</b> The given dataset has one dependent variable training day. The stated variable is dependent on the two given variables, drug treatment, AD status, and is at continuous level. This satisfies the assumption #1. \n",
    "\n",
    "<b>Assumption #2:</b> You have two independent variables where each independent variable consists of two or more categorical, independent groups.  \n",
    "\n",
    "<b>Remark.</b> The dataset consists of two independent variables, the drug treatment and AD status. The AD status consists of 2 independent groups, 1, and 2, making it a dichotomous variable. On the other hand, the independent variable drug treatment has four independent groups 1,2,3, and 4. These two independent variables are the basis of the dependent variable training day.  This satisfies the assumption #2. \n",
    "\n",
    "\n",
    "<b>Assumption #3:</b> You should have independence of observations, which means that there is no relationship between the observations in each group of the independent variable or between the groups themselves.\n",
    "\n",
    "<b>Remark.</b> For the dataset given, each observation represents a unique individual value for the two independent variables. There is no indication that each independent group correlates with each other. The two independent groups for gender provide specific values, and are recorded independently with each other. It is the same with the case of drug treatment 1, 2, 3, and 4. This satisfies the assumption of independence for 2-way ANOVA.  \n"
   ]
  },
  {
   "cell_type": "markdown",
   "id": "831cd7d1-179f-4781-b63e-e0788f5c2573",
   "metadata": {},
   "source": [
    "# Assumption 4"
   ]
  },
  {
   "cell_type": "markdown",
   "id": "dccfa759",
   "metadata": {},
   "source": [
    "<b>Assumption #4:</b> There should be no significant outliers in any cell of the design."
   ]
  },
  {
   "cell_type": "code",
   "execution_count": 14,
   "id": "1d71fd56-23c4-4dbc-a7d2-c7cfed2cd6d6",
   "metadata": {},
   "outputs": [
    {
     "data": {
      "image/png": "[encoded data removed]",
      "text/plain": [
       "<Figure size 1000x600 with 1 Axes>"
      ]
     },
     "metadata": {},
     "output_type": "display_data"
    }
   ],
   "source": [
    "import matplotlib.pyplot as plt\n",
    "import seaborn as sns\n",
    "\n",
    "\n",
    "plt.figure(figsize=(10, 6))\n",
    "\n",
    "sns.boxplot(x='AD_Status', y='Training', hue='Treatment', data=df, palette=\"Set2\", dodge=True)\n",
    "\n",
    "plt.title(\"Training error based on AD Status and Treatment\", fontsize=14)\n",
    "plt.xlabel(\"AD_Status\", fontsize=12)\n",
    "plt.ylabel(\"Training\", fontsize=12)\n",
    "plt.legend(title=\"Treatment;\", bbox_to_anchor=(1.05, 1), loc='upper left')\n",
    "plt.tight_layout()\n",
    "plt.show()"
   ]
  },
  {
   "cell_type": "markdown",
   "id": "e82583ed",
   "metadata": {},
   "source": [
    "<b>Remark.</b>  There are no significant outliers between the 6 cells because all fall within the range and are valid."
   ]
  },
  {
   "cell_type": "markdown",
   "id": "f67f7b03-b51c-4406-95b6-ded7cb1b4921",
   "metadata": {},
   "source": [
    "# Assumption 5\n",
    "<b>Assumption #5:</b> The distribution of the dependent variable (residuals) should be approximately normally distributed in every cell of the design. \n"
   ]
  },
  {
   "cell_type": "code",
   "execution_count": 36,
   "id": "427c50d7",
   "metadata": {},
   "outputs": [],
   "source": [
    "import pandas as pd\n",
    "import numpy as np\n",
    "from scipy import stats\n",
    "from IPython.display import display\n",
    "\n",
    "def analyze_group_data(df, group_var, target_var):\n",
    "    descriptive_measures = {}\n",
    "    for group_name, group_data in df.groupby(group_var)[target_var]:\n",
    "        n = group_data.count()  # Count of valid observations\n",
    "        descriptive_measures[group_name] = {\n",
    "            'Valid': n,\n",
    "            'Mode': group_data.mode().tolist(),\n",
    "            'Median': group_data.median(),\n",
    "            'Mean': group_data.mean(),\n",
    "            'Std. Deviation': group_data.std(),\n",
    "            'Variance': group_data.var(),\n",
    "            'Skewness': group_data.skew(),\n",
    "            'Std. Error of Skewness': np.sqrt((6 * n * (n - 1)) / ((n - 2) * (n + 1) * (n + 3))) if n > 3 else None,\n",
    "            'Kurtosis': group_data.kurt(),\n",
    "            'Std. Error of Kurtosis': np.sqrt(24 / n) if n > 0 else None,\n",
    "            'Minimum': group_data.min(),\n",
    "            'Maximum': group_data.max(),\n",
    "            '25th Percentile': group_data.quantile(0.25),\n",
    "            '50th Percentile': group_data.quantile(0.50),\n",
    "            '90th Percentile': group_data.quantile(0.90),\n",
    "        }\n",
    "    return pd.DataFrame(descriptive_measures).T"
   ]
  },
  {
   "cell_type": "code",
   "execution_count": 37,
   "id": "ae22a051",
   "metadata": {},
   "outputs": [
    {
     "data": {
      "text/html": [
       "<div>\n",
       "<style scoped>\n",
       "    .dataframe tbody tr th:only-of-type {\n",
       "        vertical-align: middle;\n",
       "    }\n",
       "\n",
       "    .dataframe tbody tr th {\n",
       "        vertical-align: top;\n",
       "    }\n",
       "\n",
       "    .dataframe thead th {\n",
       "        text-align: right;\n",
       "    }\n",
       "</style>\n",
       "<table border=\"1\" class=\"dataframe\">\n",
       "  <thead>\n",
       "    <tr style=\"text-align: right;\">\n",
       "      <th></th>\n",
       "      <th>Valid</th>\n",
       "      <th>Mode</th>\n",
       "      <th>Median</th>\n",
       "      <th>Mean</th>\n",
       "      <th>Std. Deviation</th>\n",
       "      <th>Variance</th>\n",
       "      <th>Skewness</th>\n",
       "      <th>Std. Error of Skewness</th>\n",
       "      <th>Kurtosis</th>\n",
       "      <th>Std. Error of Kurtosis</th>\n",
       "      <th>Minimum</th>\n",
       "      <th>Maximum</th>\n",
       "      <th>25th Percentile</th>\n",
       "      <th>50th Percentile</th>\n",
       "      <th>90th Percentile</th>\n",
       "    </tr>\n",
       "  </thead>\n",
       "  <tbody>\n",
       "    <tr>\n",
       "      <th>1</th>\n",
       "      <td>5</td>\n",
       "      <td>[10, 13]</td>\n",
       "      <td>12.0</td>\n",
       "      <td>11.6</td>\n",
       "      <td>1.516575</td>\n",
       "      <td>2.3</td>\n",
       "      <td>-0.315356</td>\n",
       "      <td>0.912871</td>\n",
       "      <td>-3.081285</td>\n",
       "      <td>2.19089</td>\n",
       "      <td>10</td>\n",
       "      <td>13</td>\n",
       "      <td>10.0</td>\n",
       "      <td>12.0</td>\n",
       "      <td>13.0</td>\n",
       "    </tr>\n",
       "    <tr>\n",
       "      <th>2</th>\n",
       "      <td>5</td>\n",
       "      <td>[13]</td>\n",
       "      <td>13.0</td>\n",
       "      <td>13.2</td>\n",
       "      <td>1.48324</td>\n",
       "      <td>2.2</td>\n",
       "      <td>-0.551618</td>\n",
       "      <td>0.912871</td>\n",
       "      <td>0.867769</td>\n",
       "      <td>2.19089</td>\n",
       "      <td>11</td>\n",
       "      <td>15</td>\n",
       "      <td>13.0</td>\n",
       "      <td>13.0</td>\n",
       "      <td>14.6</td>\n",
       "    </tr>\n",
       "    <tr>\n",
       "      <th>3</th>\n",
       "      <td>5</td>\n",
       "      <td>[10, 11, 12, 14, 15]</td>\n",
       "      <td>12.0</td>\n",
       "      <td>12.4</td>\n",
       "      <td>2.073644</td>\n",
       "      <td>4.3</td>\n",
       "      <td>0.235514</td>\n",
       "      <td>0.912871</td>\n",
       "      <td>-1.963223</td>\n",
       "      <td>2.19089</td>\n",
       "      <td>10</td>\n",
       "      <td>15</td>\n",
       "      <td>11.0</td>\n",
       "      <td>12.0</td>\n",
       "      <td>14.6</td>\n",
       "    </tr>\n",
       "    <tr>\n",
       "      <th>4</th>\n",
       "      <td>5</td>\n",
       "      <td>[10]</td>\n",
       "      <td>11.0</td>\n",
       "      <td>11.2</td>\n",
       "      <td>1.30384</td>\n",
       "      <td>1.7</td>\n",
       "      <td>0.541387</td>\n",
       "      <td>0.912871</td>\n",
       "      <td>-1.487889</td>\n",
       "      <td>2.19089</td>\n",
       "      <td>10</td>\n",
       "      <td>13</td>\n",
       "      <td>10.0</td>\n",
       "      <td>11.0</td>\n",
       "      <td>12.6</td>\n",
       "    </tr>\n",
       "  </tbody>\n",
       "</table>\n",
       "</div>"
      ],
      "text/plain": [
       "  Valid                  Mode Median  Mean Std. Deviation Variance  Skewness  \\\n",
       "1     5              [10, 13]   12.0  11.6       1.516575      2.3 -0.315356   \n",
       "2     5                  [13]   13.0  13.2        1.48324      2.2 -0.551618   \n",
       "3     5  [10, 11, 12, 14, 15]   12.0  12.4       2.073644      4.3  0.235514   \n",
       "4     5                  [10]   11.0  11.2        1.30384      1.7  0.541387   \n",
       "\n",
       "  Std. Error of Skewness  Kurtosis Std. Error of Kurtosis Minimum Maximum  \\\n",
       "1               0.912871 -3.081285                2.19089      10      13   \n",
       "2               0.912871  0.867769                2.19089      11      15   \n",
       "3               0.912871 -1.963223                2.19089      10      15   \n",
       "4               0.912871 -1.487889                2.19089      10      13   \n",
       "\n",
       "  25th Percentile 50th Percentile 90th Percentile  \n",
       "1            10.0            12.0            13.0  \n",
       "2            13.0            13.0            14.6  \n",
       "3            11.0            12.0            14.6  \n",
       "4            10.0            11.0            12.6  "
      ]
     },
     "metadata": {},
     "output_type": "display_data"
    }
   ],
   "source": [
    "AD_status1 = alz_df[alz_df['AD_Status'] == 1]\n",
    "analysis_results = analyze_group_data(AD_status1, group_var='Treatment', target_var='Memory')\n",
    "display(analysis_results)"
   ]
  },
  {
   "cell_type": "code",
   "execution_count": 27,
   "id": "48261184",
   "metadata": {},
   "outputs": [
    {
     "data": {
      "text/html": [
       "<div>\n",
       "<style scoped>\n",
       "    .dataframe tbody tr th:only-of-type {\n",
       "        vertical-align: middle;\n",
       "    }\n",
       "\n",
       "    .dataframe tbody tr th {\n",
       "        vertical-align: top;\n",
       "    }\n",
       "\n",
       "    .dataframe thead th {\n",
       "        text-align: right;\n",
       "    }\n",
       "</style>\n",
       "<table border=\"1\" class=\"dataframe\">\n",
       "  <thead>\n",
       "    <tr style=\"text-align: right;\">\n",
       "      <th></th>\n",
       "      <th>Valid</th>\n",
       "      <th>Mode</th>\n",
       "      <th>Median</th>\n",
       "      <th>Mean</th>\n",
       "      <th>Std. Deviation</th>\n",
       "      <th>Variance</th>\n",
       "      <th>Skewness</th>\n",
       "      <th>Std. Error of Skewness</th>\n",
       "      <th>Kurtosis</th>\n",
       "      <th>Std. Error of Kurtosis</th>\n",
       "      <th>Minimum</th>\n",
       "      <th>Maximum</th>\n",
       "      <th>25th Percentile</th>\n",
       "      <th>50th Percentile</th>\n",
       "      <th>90th Percentile</th>\n",
       "    </tr>\n",
       "  </thead>\n",
       "  <tbody>\n",
       "    <tr>\n",
       "      <th>1</th>\n",
       "      <td>5</td>\n",
       "      <td>[8]</td>\n",
       "      <td>8.0</td>\n",
       "      <td>8.6</td>\n",
       "      <td>0.894427</td>\n",
       "      <td>0.8</td>\n",
       "      <td>1.257788</td>\n",
       "      <td>0.912871</td>\n",
       "      <td>0.3125</td>\n",
       "      <td>2.19089</td>\n",
       "      <td>8</td>\n",
       "      <td>10</td>\n",
       "      <td>8.0</td>\n",
       "      <td>8.0</td>\n",
       "      <td>9.6</td>\n",
       "    </tr>\n",
       "    <tr>\n",
       "      <th>2</th>\n",
       "      <td>5</td>\n",
       "      <td>[7]</td>\n",
       "      <td>7.0</td>\n",
       "      <td>7.6</td>\n",
       "      <td>1.949359</td>\n",
       "      <td>3.8</td>\n",
       "      <td>-0.080998</td>\n",
       "      <td>0.912871</td>\n",
       "      <td>-0.817175</td>\n",
       "      <td>2.19089</td>\n",
       "      <td>5</td>\n",
       "      <td>10</td>\n",
       "      <td>7.0</td>\n",
       "      <td>7.0</td>\n",
       "      <td>9.6</td>\n",
       "    </tr>\n",
       "    <tr>\n",
       "      <th>3</th>\n",
       "      <td>5</td>\n",
       "      <td>[8, 9]</td>\n",
       "      <td>8.0</td>\n",
       "      <td>8.2</td>\n",
       "      <td>0.83666</td>\n",
       "      <td>0.7</td>\n",
       "      <td>-0.512241</td>\n",
       "      <td>0.912871</td>\n",
       "      <td>-0.612245</td>\n",
       "      <td>2.19089</td>\n",
       "      <td>7</td>\n",
       "      <td>9</td>\n",
       "      <td>8.0</td>\n",
       "      <td>8.0</td>\n",
       "      <td>9.0</td>\n",
       "    </tr>\n",
       "    <tr>\n",
       "      <th>4</th>\n",
       "      <td>5</td>\n",
       "      <td>[4, 5, 7, 8, 9]</td>\n",
       "      <td>7.0</td>\n",
       "      <td>6.6</td>\n",
       "      <td>2.073644</td>\n",
       "      <td>4.3</td>\n",
       "      <td>-0.235514</td>\n",
       "      <td>0.912871</td>\n",
       "      <td>-1.963223</td>\n",
       "      <td>2.19089</td>\n",
       "      <td>4</td>\n",
       "      <td>9</td>\n",
       "      <td>5.0</td>\n",
       "      <td>7.0</td>\n",
       "      <td>8.6</td>\n",
       "    </tr>\n",
       "  </tbody>\n",
       "</table>\n",
       "</div>"
      ],
      "text/plain": [
       "  Valid             Mode Median Mean Std. Deviation Variance  Skewness  \\\n",
       "1     5              [8]    8.0  8.6       0.894427      0.8  1.257788   \n",
       "2     5              [7]    7.0  7.6       1.949359      3.8 -0.080998   \n",
       "3     5           [8, 9]    8.0  8.2        0.83666      0.7 -0.512241   \n",
       "4     5  [4, 5, 7, 8, 9]    7.0  6.6       2.073644      4.3 -0.235514   \n",
       "\n",
       "  Std. Error of Skewness  Kurtosis Std. Error of Kurtosis Minimum Maximum  \\\n",
       "1               0.912871    0.3125                2.19089       8      10   \n",
       "2               0.912871 -0.817175                2.19089       5      10   \n",
       "3               0.912871 -0.612245                2.19089       7       9   \n",
       "4               0.912871 -1.963223                2.19089       4       9   \n",
       "\n",
       "  25th Percentile 50th Percentile 90th Percentile  \n",
       "1             8.0             8.0             9.6  \n",
       "2             7.0             7.0             9.6  \n",
       "3             8.0             8.0             9.0  \n",
       "4             5.0             7.0             8.6  "
      ]
     },
     "metadata": {},
     "output_type": "display_data"
    }
   ],
   "source": [
    "AD_status2 = alz_df[alz_df['AD_Status'] == 2]\n",
    "analysis_results = analyze_group_data(AD_status2, group_var='Treatment', target_var='Memory')\n",
    "display(analysis_results)"
   ]
  },
  {
   "cell_type": "code",
   "execution_count": 13,
   "id": "f73bc33b-98f2-4de3-89c0-69a3873804c9",
   "metadata": {},
   "outputs": [
    {
     "data": {
      "text/plain": [
       "{(1, 1): {'Statistic': 0.9020198201298117, 'p-value': 0.42114965351611855},\n",
       " (1, 2): {'Statistic': 0.866835872224429, 'p-value': 0.2538464637612434},\n",
       " (2, 1): {'Statistic': 0.9020198201298121, 'p-value': 0.42114965351612},\n",
       " (2, 2): {'Statistic': 0.8939244932314427, 'p-value': 0.3772224660924305},\n",
       " (3, 1): {'Statistic': 0.9787161500642191, 'p-value': 0.9276364233495382},\n",
       " (3, 2): {'Statistic': 0.9787161500642191, 'p-value': 0.9276364233495382},\n",
       " (4, 1): {'Statistic': 0.9608589992013118, 'p-value': 0.8139521277236892},\n",
       " (4, 2): {'Statistic': 0.9608589992013118, 'p-value': 0.8139521277236892}}"
      ]
     },
     "metadata": {},
     "output_type": "display_data"
    }
   ],
   "source": [
    "from IPython.display import display\n",
    "\n",
    "normality ={}\n",
    "for i in alz_df['Treatment'].unique():\n",
    "    for j in alz_df['AD_Status'].unique():\n",
    "        group_normal=alz_df[(alz_df['Treatment'] == i) & (alz_df['AD_Status'] == j)]['Training']\n",
    "        stat, p_value = shapiro(group_normal)\n",
    "        normality[(int(i), int(j))] = {'Statistic': float(stat), 'p-value': float(p_value)}\n",
    "display(normality)"
   ]
  },
  {
   "cell_type": "markdown",
   "id": "f26fa090",
   "metadata": {},
   "source": [
    "<b>Remark.</b> The dependent variable, training day, is approximately normally distributed for each combination of their AD status to the respective drug treatment. And as assessed by the Shapiro-Wilk test of normality, (p > 0.05), all fall within the prescribed basis of greater than 0.05. "
   ]
  },
  {
   "cell_type": "markdown",
   "id": "3b867e51-36fc-4d3c-b04c-6d856b264aa3",
   "metadata": {},
   "source": [
    "# Assumption 6 (Levene's Test)\n",
    "<b>Assumption #6:  </b>The variance of the dependent variable (residuals) should be equal in every cell of the design."
   ]
  },
  {
   "cell_type": "code",
   "execution_count": 35,
   "id": "274a28d6-3d61-49d4-a8b7-2464a17f63be",
   "metadata": {},
   "outputs": [
    {
     "data": {
      "text/plain": [
       "{(1, 1): {'Statistic': 0.8029904417735476, 'p-value': 0.08569260402621937},\n",
       " (1, 2): {'Statistic': 0.7709079337590306, 'p-value': 0.04595431783856295},\n",
       " (2, 1): {'Statistic': 0.9556271474166738, 'p-value': 0.7772534037372361},\n",
       " (2, 2): {'Statistic': 0.9529604619046342, 'p-value': 0.7583121101708065},\n",
       " (3, 1): {'Statistic': 0.9523514916285045, 'p-value': 0.7539729964660309},\n",
       " (3, 2): {'Statistic': 0.8810376385817489, 'p-value': 0.3140395561440371},\n",
       " (4, 1): {'Statistic': 0.9020198201298121, 'p-value': 0.4211496535161197},\n",
       " (4, 2): {'Statistic': 0.9523514916285045, 'p-value': 0.7539729964660309}}"
      ]
     },
     "metadata": {},
     "output_type": "display_data"
    }
   ],
   "source": [
    "normality ={}\n",
    "for i in df['Treatment'].unique():\n",
    "    for j in df['AD_Status'].unique():\n",
    "        group_normal=df[(df['Treatment'] == i) & (df['AD_Status'] == j)]['Memory']\n",
    "        stat, p_value = shapiro(group_normal)\n",
    "        normality[(int(i), int(j))] = {'Statistic': float(stat), 'p-value': float(p_value)}\n",
    "\n",
    "display(normality)"
   ]
  },
  {
   "cell_type": "markdown",
   "id": "c2605501",
   "metadata": {},
   "source": [
    "<b>Remark.</b> As assessed by Levene’s test of equality of variances, p = 0.873, then the variances for each combination of the AD status and drug treatment are homogenous."
   ]
  },
  {
   "cell_type": "markdown",
   "id": "193025d2-c0d8-4bc4-b614-9f89b24bd3f9",
   "metadata": {},
   "source": [
    "# ANOVA Test"
   ]
  },
  {
   "cell_type": "code",
   "execution_count": 14,
   "id": "240c3baf-1c5e-4b89-b3b4-9bea8fcb1370",
   "metadata": {},
   "outputs": [
    {
     "name": "stdout",
     "output_type": "stream",
     "text": [
      "Statistic: 0.43460764587525136 p-value: 0.87305057808911\n"
     ]
    }
   ],
   "source": [
    "from scipy.stats import levene\n",
    "\n",
    "\n",
    "group_levene = [alz_df[(alz_df['Treatment'] == i) & (alz_df['AD_Status'] == j)]['Training']\n",
    "          for i in alz_df['Treatment'].unique() for j in alz_df['AD_Status'].unique()]\n",
    "\n",
    "levene_stat, levene_p = levene(*group_levene)\n",
    "float(levene_stat), float(levene_p)\n",
    "print(f\"Statistic: {levene_stat} p-value: {levene_p}\")"
   ]
  },
  {
   "cell_type": "code",
   "execution_count": 32,
   "id": "02ad6154-5134-4a7e-9836-3a8110eca750",
   "metadata": {},
   "outputs": [
    {
     "data": {
      "text/html": [
       "<div>\n",
       "<style scoped>\n",
       "    .dataframe tbody tr th:only-of-type {\n",
       "        vertical-align: middle;\n",
       "    }\n",
       "\n",
       "    .dataframe tbody tr th {\n",
       "        vertical-align: top;\n",
       "    }\n",
       "\n",
       "    .dataframe thead th {\n",
       "        text-align: right;\n",
       "    }\n",
       "</style>\n",
       "<table border=\"1\" class=\"dataframe\">\n",
       "  <thead>\n",
       "    <tr style=\"text-align: right;\">\n",
       "      <th></th>\n",
       "      <th>sum_sq</th>\n",
       "      <th>df</th>\n",
       "      <th>F</th>\n",
       "      <th>PR(&gt;F)</th>\n",
       "    </tr>\n",
       "  </thead>\n",
       "  <tbody>\n",
       "    <tr>\n",
       "      <th>C(AD_Status)</th>\n",
       "      <td>3.025</td>\n",
       "      <td>1.0</td>\n",
       "      <td>1.216080</td>\n",
       "      <td>0.278356</td>\n",
       "    </tr>\n",
       "    <tr>\n",
       "      <th>C(Treatment)</th>\n",
       "      <td>28.275</td>\n",
       "      <td>3.0</td>\n",
       "      <td>3.788945</td>\n",
       "      <td>0.019678</td>\n",
       "    </tr>\n",
       "    <tr>\n",
       "      <th>C(AD_Status):C(Treatment)</th>\n",
       "      <td>9.075</td>\n",
       "      <td>3.0</td>\n",
       "      <td>1.216080</td>\n",
       "      <td>0.319771</td>\n",
       "    </tr>\n",
       "    <tr>\n",
       "      <th>Residual</th>\n",
       "      <td>79.600</td>\n",
       "      <td>32.0</td>\n",
       "      <td>NaN</td>\n",
       "      <td>NaN</td>\n",
       "    </tr>\n",
       "  </tbody>\n",
       "</table>\n",
       "</div>"
      ],
      "text/plain": [
       "                           sum_sq    df         F    PR(>F)\n",
       "C(AD_Status)                3.025   1.0  1.216080  0.278356\n",
       "C(Treatment)               28.275   3.0  3.788945  0.019678\n",
       "C(AD_Status):C(Treatment)   9.075   3.0  1.216080  0.319771\n",
       "Residual                   79.600  32.0       NaN       NaN"
      ]
     },
     "execution_count": 32,
     "metadata": {},
     "output_type": "execute_result"
    }
   ],
   "source": [
    "model = ols('Training ~ C(AD_Status) * C(Treatment)', data=alz_df).fit()\n",
    "computation = sm.stats.anova_lm(model, typ=2)\n",
    "computation"
   ]
  },
  {
   "cell_type": "markdown",
   "id": "5b8252ac",
   "metadata": {},
   "source": [
    "<b>Remark.</b> Upon inspection, there exists a statistically significant interaction between treatment [C(Treatment)]on the respective training day. In the values, F = 3.789, PR(>F) = 0.0197, meaning that the p-value p-value indicates a statistically significant result at the 𝛼 = 0.05. Since the p-value is less than the 0.05 threshold, the null hypothesis would be rejected at this level. Therefore, the main effects of each independent variable were not reported, as they would be biased through this interaction given. To address, an analysis of simple main effects was conducted with statistical significance assessed at the p <0.025 level using a Bonferroni adjustment. "
   ]
  },
  {
   "cell_type": "markdown",
   "id": "09c911d0",
   "metadata": {},
   "source": [
    "# Post-Hoc\n"
   ]
  },
  {
   "cell_type": "code",
   "execution_count": 34,
   "id": "ad400c65-cf1f-45ca-881f-fd2330b11c1a",
   "metadata": {},
   "outputs": [
    {
     "data": {
      "text/html": [
       "<table class=\"simpletable\">\n",
       "<caption>Multiple Comparison of Means - Tukey HSD, FWER=0.05</caption>\n",
       "<tr>\n",
       "  <th>group1</th> <th>group2</th> <th>meandiff</th>  <th>p-adj</th>  <th>lower</th>   <th>upper</th>  <th>reject</th>\n",
       "</tr>\n",
       "<tr>\n",
       "     <td>1</td>      <td>2</td>      <td>1.5</td>    <td>0.172</td> <td>-0.4223</td> <td>3.4223</td>   <td>False</td>\n",
       "</tr>\n",
       "<tr>\n",
       "     <td>1</td>      <td>3</td>      <td>0.9</td>   <td>0.5931</td> <td>-1.0223</td> <td>2.8223</td>   <td>False</td>\n",
       "</tr>\n",
       "<tr>\n",
       "     <td>1</td>      <td>4</td>     <td>-0.7</td>   <td>0.7612</td> <td>-2.6223</td> <td>1.2223</td>   <td>False</td>\n",
       "</tr>\n",
       "<tr>\n",
       "     <td>2</td>      <td>3</td>     <td>-0.6</td>   <td>0.8347</td> <td>-2.5223</td> <td>1.3223</td>   <td>False</td>\n",
       "</tr>\n",
       "<tr>\n",
       "     <td>2</td>      <td>4</td>     <td>-2.2</td>   <td>0.0196</td> <td>-4.1223</td> <td>-0.2777</td>  <td>True</td> \n",
       "</tr>\n",
       "<tr>\n",
       "     <td>3</td>      <td>4</td>     <td>-1.6</td>   <td>0.1314</td> <td>-3.5223</td> <td>0.3223</td>   <td>False</td>\n",
       "</tr>\n",
       "</table>"
      ],
      "text/latex": [
       "\\begin{center}\n",
       "\\begin{tabular}{ccccccc}\n",
       "\\toprule\n",
       "\\textbf{group1} & \\textbf{group2} & \\textbf{meandiff} & \\textbf{p-adj} & \\textbf{lower} & \\textbf{upper} & \\textbf{reject}  \\\\\n",
       "\\midrule\n",
       "       1        &        2        &        1.5        &     0.172      &    -0.4223     &     3.4223     &      False       \\\\\n",
       "       1        &        3        &        0.9        &     0.5931     &    -1.0223     &     2.8223     &      False       \\\\\n",
       "       1        &        4        &        -0.7       &     0.7612     &    -2.6223     &     1.2223     &      False       \\\\\n",
       "       2        &        3        &        -0.6       &     0.8347     &    -2.5223     &     1.3223     &      False       \\\\\n",
       "       2        &        4        &        -2.2       &     0.0196     &    -4.1223     &    -0.2777     &       True       \\\\\n",
       "       3        &        4        &        -1.6       &     0.1314     &    -3.5223     &     0.3223     &      False       \\\\\n",
       "\\bottomrule\n",
       "\\end{tabular}\n",
       "%\\caption{Multiple Comparison of Means - Tukey HSD, FWER=0.05}\n",
       "\\end{center}"
      ],
      "text/plain": [
       "<class 'statsmodels.iolib.table.SimpleTable'>"
      ]
     },
     "execution_count": 34,
     "metadata": {},
     "output_type": "execute_result"
    }
   ],
   "source": [
    "tukey_results = pairwise_tukeyhsd(alz_df['Training'], alz_df['Treatment'])\n",
    "tukey_results.summary()"
   ]
  },
  {
   "cell_type": "markdown",
   "id": "29e33dfb",
   "metadata": {},
   "source": [
    "<b>Remark. </b>Analysis on Post hoc were conducted to examine pairwise comparisons between the treatment and the apparent interaction with training day. All pairwise comparisons were run for each simple main effect with reported 95% confidence intervals and p-values Tukey-adjusted within each simple main effect. The differences in the training day are apparent in comparing the groups 2 and 4 with differences at -2.2, therefore rejecting the null hypothesis only at that treatment, whereas from all other groups where the mice taken a different type of treatment has no significant effect in creating errors during training day on group. "
   ]
  },
  {
   "cell_type": "markdown",
   "id": "ec424058",
   "metadata": {},
   "source": [
    "<h2>Reporting:</h2>\n",
    "A two-way ANOVA was conducted to examine the effects of AD status and treatment\n",
    "on the quantity of errors of mice during training day. Residual analysis was performed to test for the assumptions of the two-way ANOVA. Outliers were assessed by inspection of a boxplot, normality was assessed using Shapiro-Wilk's normality test for each cell of the design and homogeneity of variances was assessed by Levene's test. There were no outliers, residuals were normally distributed (p > .05) and there was homogeneity of variances (p = 0.873). \n",
    "\n",
    "There was no statistically significant interaction between AD status (transgenic vs. wild type) and four treatments on the training performance, F(3,32) = 1.216, p = 0.319. However, there was a statistically significant main effect of Treatment on training performance, F(3,32)=3.789, p=0.020. The main effect of AD Status was not statistically significant, F(1,32)=1.216,p=0.278.\n",
    "All pairwise comparisons were run for each simple main effect with reported 95% confidence intervals and p-values Bonferroni-adjusted within each simple main effect.\n",
    "Mean training performance for Treatment groups 1, 2, 3, and 4 were not directly reported but were assessed through pairwise differences. Treatment 2 had a statistically significantly lower mean training performance compared to Treatment 4 (mean difference = -2.2 [95% CI [-4.122, -0.277] p = 0.0196.\n",
    "Upon inspection, only this was statistically significant, as other comparisons between treatment groups were not statistically significant, therefore not rejecting the null hypothesis. Treatment 2 demonstrated significantly poorer performance in training compared to Treatment 4, but no other differences between treatments reached statistical significance.\n"
   ]
  },
  {
   "cell_type": "code",
   "execution_count": null,
   "id": "06991af1",
   "metadata": {},
   "outputs": [],
   "source": []
  }
 ],
 "metadata": {
  "kernelspec": {
   "display_name": "Python 3 (ipykernel)",
   "language": "python",
   "name": "python3"
  },
  "language_info": {
   "codemirror_mode": {
    "name": "ipython",
    "version": 3
   },
   "file_extension": ".py",
   "mimetype": "text/x-python",
   "name": "python",
   "nbconvert_exporter": "python",
   "pygments_lexer": "ipython3",
   "version": "3.9.19"
  }
 },
 "nbformat": 4,
 "nbformat_minor": 5
}
